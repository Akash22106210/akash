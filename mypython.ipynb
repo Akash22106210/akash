{
  "nbformat": 4,
  "nbformat_minor": 0,
  "metadata": {
    "colab": {
      "provenance": []
    },
    "kernelspec": {
      "name": "python3",
      "display_name": "Python 3"
    },
    "language_info": {
      "name": "python"
    }
  },
  "cells": [
    {
      "cell_type": "code",
      "execution_count": null,
      "metadata": {
        "colab": {
          "base_uri": "https://localhost:8080/"
        },
        "id": "F87P63gBADgA",
        "outputId": "c84ca832-5af9-4395-99ee-87a51301d431"
      },
      "outputs": [
        {
          "output_type": "stream",
          "name": "stdout",
          "text": [
            "enter 2 numbers5\n",
            "6\n",
            "1st number entered is   5  and second number entered is 6\n"
          ]
        }
      ],
      "source": [
        "a=input(\"enter 2 numbers\")\n",
        "b=input()\n",
        "print(\"1st number entered is   \"+str(a)+\"  and second number entered is \"+str(b))"
      ]
    },
    {
      "cell_type": "code",
      "source": [],
      "metadata": {
        "id": "uT7bzjmXE1nJ"
      },
      "execution_count": null,
      "outputs": []
    },
    {
      "cell_type": "code",
      "source": [
        "a=input(\"enter 2 numbers\")\n",
        "b=input()\n",
        "sum=int(a)+int(b)\n",
        "\n",
        "print(\"sum of the 2 number is\")\n",
        "print(str(sum))"
      ],
      "metadata": {
        "colab": {
          "base_uri": "https://localhost:8080/"
        },
        "id": "7J21iFR8AIkN",
        "outputId": "c0728ecc-7861-48ad-ced7-5ca01865a1e4"
      },
      "execution_count": null,
      "outputs": [
        {
          "output_type": "stream",
          "name": "stdout",
          "text": [
            "enter 2 numbers5\n",
            "6\n",
            "sum of the 2 number is\n",
            "11\n"
          ]
        }
      ]
    },
    {
      "cell_type": "code",
      "source": [
        "# product using the input\n",
        "a=input(\"enter any 2 numbers:\")\n",
        "b=input()\n",
        "mul=int(a)*int(b)\n",
        "print(\"product of the 2 numbers you entered is \"+str(mul))"
      ],
      "metadata": {
        "colab": {
          "base_uri": "https://localhost:8080/"
        },
        "id": "DCGAxjjapCrT",
        "outputId": "8638460f-bb3d-469b-b556-fd084d657436"
      },
      "execution_count": null,
      "outputs": [
        {
          "output_type": "stream",
          "name": "stdout",
          "text": [
            "enter any 2 numbers:9\n",
            "20\n",
            "product of the 2 numbers you entered is 180\n"
          ]
        }
      ]
    },
    {
      "cell_type": "code",
      "source": [
        "#average of 3 numbers\n",
        "a=input(\"3 number adikk muthe:\")\n",
        "b=input()\n",
        "c=input()\n",
        "avg=(int(a)+int(b)+int(c))/3\n",
        "print(\"average of the 3 numbers is :\"+str(avg))"
      ],
      "metadata": {
        "colab": {
          "base_uri": "https://localhost:8080/"
        },
        "id": "J2z3WE3YrDxQ",
        "outputId": "b2b318f8-76d8-4307-c3c2-b9f7a64fd6ff"
      },
      "execution_count": null,
      "outputs": [
        {
          "output_type": "stream",
          "name": "stdout",
          "text": [
            "enter the 3 numbers:8\n",
            "9\n",
            "4\n",
            "average of the 3 numbers is :7.0\n"
          ]
        }
      ]
    },
    {
      "cell_type": "code",
      "source": [
        "#swapping of the 2 numbers\n",
        "a=10\n",
        "b=20\n",
        "\n",
        "temp=a\n",
        "a=b\n",
        "b=temp\n",
        "print(\"1st number is   \"+str(a)+   \"   and 2nd number is \"+str(b))\n"
      ],
      "metadata": {
        "colab": {
          "base_uri": "https://localhost:8080/"
        },
        "id": "dpXe-dUtsmA_",
        "outputId": "30949311-b3a8-47ba-d056-aa4a18ba82b1"
      },
      "execution_count": null,
      "outputs": [
        {
          "output_type": "stream",
          "name": "stdout",
          "text": [
            "1st number is   20   and 2nd number is 10\n"
          ]
        }
      ]
    },
    {
      "cell_type": "code",
      "source": [
        "# determining type\n",
        "a=50\n",
        "type(a)\n",
        "print(type(a))"
      ],
      "metadata": {
        "colab": {
          "base_uri": "https://localhost:8080/"
        },
        "id": "n2LB_8tMA1vS",
        "outputId": "1f59bfa2-ea81-455b-cfec-2f04e22aca47"
      },
      "execution_count": null,
      "outputs": [
        {
          "output_type": "stream",
          "name": "stdout",
          "text": [
            "<class 'int'>\n"
          ]
        }
      ]
    },
    {
      "cell_type": "code",
      "source": [
        "#length of the string\n",
        "a=\"how are you\"\n",
        "print(len(a))\n"
      ],
      "metadata": {
        "colab": {
          "base_uri": "https://localhost:8080/"
        },
        "id": "c2xytxK7Bb6D",
        "outputId": "689f2ba6-3e69-42cd-8d0c-90eb62923a29"
      },
      "execution_count": null,
      "outputs": [
        {
          "output_type": "stream",
          "name": "stdout",
          "text": [
            "11\n"
          ]
        }
      ]
    },
    {
      "cell_type": "code",
      "source": [
        "#factorial program\n",
        "a=input(\" oru number adikk muthe:\")\n",
        "fact=1\n",
        "for i in range(1,int(a)+int(1)):\n",
        "  fact=fact*i\n",
        "print(int(fact))"
      ],
      "metadata": {
        "colab": {
          "base_uri": "https://localhost:8080/"
        },
        "id": "mVt-kbXcCNAS",
        "outputId": "07f67027-80b7-4fb7-fcb4-0781465eef41"
      },
      "execution_count": null,
      "outputs": [
        {
          "output_type": "stream",
          "name": "stdout",
          "text": [
            " oru number adikk muthe:5\n",
            "120\n"
          ]
        }
      ]
    },
    {
      "cell_type": "code",
      "source": [
        "# retrieving the elements of the string\n",
        "a=\"pandi karimpara\"\n",
        "print(a[7])\n",
        "print(a[6])\n",
        "print(a[3])"
      ],
      "metadata": {
        "id": "yIQ2F-h9XFon",
        "colab": {
          "base_uri": "https://localhost:8080/"
        },
        "outputId": "7011ecd1-b582-4e34-cefd-2436db922f90"
      },
      "execution_count": null,
      "outputs": [
        {
          "output_type": "stream",
          "name": "stdout",
          "text": [
            "a\n",
            "k\n",
            "d\n"
          ]
        }
      ]
    },
    {
      "cell_type": "code",
      "source": [
        "# list (we cannot alter the position of the list elements)\n",
        "list=[\"rithul\",\"amarnath\",\"akash\",\"drishyap\",\"mambu\",\"vyshagh\"]\n",
        "print(list)\n",
        "print(list[3])\n",
        "list[3]=\"pandi\"\n",
        "list[4]=\"karimpara\"\n",
        "print(list)\n",
        "print(len(list))\n",
        "print(list[-1])\n",
        "print(list[-2])\n",
        "print(list[2:])"
      ],
      "metadata": {
        "colab": {
          "base_uri": "https://localhost:8080/"
        },
        "id": "Bmr9oX6WtmhA",
        "outputId": "8dfd615d-8e96-4837-d19f-77cdaf02b0ba"
      },
      "execution_count": null,
      "outputs": [
        {
          "output_type": "stream",
          "name": "stdout",
          "text": [
            "['rithul', 'amarnath', 'akash', 'drishyap', 'mambu', 'vyshagh']\n",
            "drishyap\n",
            "['rithul', 'amarnath', 'akash', 'pandi', 'karimpara', 'vyshagh']\n",
            "6\n",
            "vyshagh\n",
            "karimpara\n",
            "['akash', 'pandi', 'karimpara', 'vyshagh']\n"
          ]
        }
      ]
    },
    {
      "cell_type": "code",
      "source": [
        "#adding one list with another list\n",
        "list1=[\"pandi\",\"karimpara\",\"polayadi\",\"mone\"]\n",
        "print(list1)\n",
        "list2=[\"adichu\",\"keri\",\"vaa\"]\n",
        "print(list2)\n",
        "list1=list1+list2\n",
        "print(list1)"
      ],
      "metadata": {
        "colab": {
          "base_uri": "https://localhost:8080/"
        },
        "id": "WFVQNP19awlf",
        "outputId": "0135e4a7-0aa1-4e24-d1b7-8123dbc629e1"
      },
      "execution_count": null,
      "outputs": [
        {
          "output_type": "stream",
          "name": "stdout",
          "text": [
            "['pandi', 'karimpara', 'polayadi', 'mone']\n",
            "['adichu', 'keri', 'vaa']\n",
            "['pandi', 'karimpara', 'polayadi', 'mone', 'adichu', 'keri', 'vaa']\n"
          ]
        }
      ]
    },
    {
      "cell_type": "code",
      "source": [
        "#inputing the elements from keyboard for a list using appaend()\n",
        "list=[]\n",
        "a=input(\"enter the no of elements for the list\")\n",
        "for i in range(1,int(a)+1):\n",
        "  b=input()\n",
        "  list.append(b)\n",
        "print(list)\n"
      ],
      "metadata": {
        "colab": {
          "base_uri": "https://localhost:8080/"
        },
        "id": "-fepgDhXbr_9",
        "outputId": "9811cf06-e9b8-4790-b861-ab43867c7fcf"
      },
      "execution_count": null,
      "outputs": [
        {
          "output_type": "stream",
          "name": "stdout",
          "text": [
            "enter the no of elements for the list3\n",
            "amaran\n",
            "go\n",
            "school\n",
            "['amaran', 'go', 'school']\n"
          ]
        }
      ]
    },
    {
      "cell_type": "code",
      "source": [
        "#conditional statements if else\n",
        "num=input(\"enter a nummber\")\n",
        "if int(num)<0:\n",
        "  print(\"the number is negetive\")\n",
        "elif int(num)==0:\n",
        "  print(\"the number is zero\")\n",
        "else:\n",
        "  print(\"the number is posetive\")\n",
        "\n"
      ],
      "metadata": {
        "colab": {
          "base_uri": "https://localhost:8080/"
        },
        "id": "0G4rmCmMfKAs",
        "outputId": "56566452-759a-4c96-f890-de64998ea6b6"
      },
      "execution_count": null,
      "outputs": [
        {
          "output_type": "stream",
          "name": "stdout",
          "text": [
            "enter a nummber0\n",
            "the number is zero\n"
          ]
        }
      ]
    },
    {
      "cell_type": "code",
      "source": [
        "num=input(\"enter the number\")\n",
        "if int(num)%2==0:\n",
        "  print(\"the number is even\")\n",
        "else:\n",
        "  print(\"the number is odd\")\n"
      ],
      "metadata": {
        "colab": {
          "base_uri": "https://localhost:8080/"
        },
        "id": "omiPQrJCiaTD",
        "outputId": "b79a71ce-b735-4501-9c0a-06c1178d2ad6"
      },
      "execution_count": null,
      "outputs": [
        {
          "output_type": "stream",
          "name": "stdout",
          "text": [
            "enter the number6\n",
            "the number is even\n"
          ]
        }
      ]
    },
    {
      "cell_type": "code",
      "source": [
        "#printing star program\n",
        "n=int(input(\"enter the number\"))\n",
        "for i in range(1,n+1):\n",
        "  for j in range(1,i+1):\n",
        "       print(\"*\",end=\"\")\n",
        "  print(\"\\n\")"
      ],
      "metadata": {
        "colab": {
          "base_uri": "https://localhost:8080/"
        },
        "id": "YRhzIW7ulUur",
        "outputId": "c29cfca1-b810-460b-fcf9-61c068519aae"
      },
      "execution_count": null,
      "outputs": [
        {
          "output_type": "stream",
          "name": "stdout",
          "text": [
            "enter the number5\n",
            "*\n",
            "\n",
            "**\n",
            "\n",
            "***\n",
            "\n",
            "****\n",
            "\n",
            "*****\n",
            "\n"
          ]
        }
      ]
    },
    {
      "cell_type": "code",
      "source": [
        "#menu problem  in a hotel\n",
        "menu={\"1.tea\",\"2.coffee\",\"3.dosa\",\"4.biriyani\",\"5.porotta\"}\n",
        "print(menu)\n",
        "choice=int(input(\"enter your choice\"))\n",
        "if choice==1:\n",
        "  print(\"you ordered tea\")\n",
        "elif choice==2:\n",
        "  print(\"you ordered coffee\")\n",
        "elif choice==3:\n",
        "  print(\"you ordered dosa\")\n",
        "elif choice==4:\n",
        "  print(\"you ordered biriyani\")\n",
        "elif choice==5:\n",
        "  print(\"you ordered porotta\")\n",
        "else:\n",
        "  print(\"ordered item not in the hotel\")"
      ],
      "metadata": {
        "colab": {
          "base_uri": "https://localhost:8080/"
        },
        "id": "nEw4Vn1Z8JPT",
        "outputId": "3e8ef3b2-858c-4b42-e42d-43a86034d4bc"
      },
      "execution_count": null,
      "outputs": [
        {
          "output_type": "stream",
          "name": "stdout",
          "text": [
            "{'2.coffee', '1.tea', '3.dosa', '4.biriyani', '5.porotta'}\n",
            "enter your choice6\n",
            "ordered item not in the hotel\n"
          ]
        }
      ]
    },
    {
      "cell_type": "code",
      "source": [
        "# hotel problem using for\n",
        "menu={\"1.tea\",\"2.coffee\",\"3.dosa\",\"4.biriyani\",\"5.porotta\"}\n",
        "print(menu)\n",
        "for i in range(1,6):\n",
        "      choice=input(\"enter your choice:\")\n",
        "      if choice==\"1\":\n",
        "         print(\"you ordered tea\")\n",
        "      elif choice==\"2\":\n",
        "          print(\"you ordered coffee\")\n",
        "      elif choice==\"3\":\n",
        "          print(\"you ordered dosa\")\n",
        "      elif choice==\"4\":\n",
        "          print(\"you ordered biriyani\")\n",
        "      elif choice==\"5\":\n",
        "          print(\"you ordered porotta\")\n",
        "      elif choice==\"exit\":\n",
        "          print(\"order confirmed\")\n",
        "          break\n",
        "      else:\n",
        "        print(\"ordered item not present\")\n"
      ],
      "metadata": {
        "colab": {
          "base_uri": "https://localhost:8080/"
        },
        "id": "fHIAYKIiEjmE",
        "outputId": "c9f2b7cd-b8b4-4fa9-ab9c-1aaa2d0c9ba4"
      },
      "execution_count": null,
      "outputs": [
        {
          "output_type": "stream",
          "name": "stdout",
          "text": [
            "{'2.coffee', '1.tea', '3.dosa', '4.biriyani', '5.porotta'}\n",
            "enter your choice:2\n",
            "you ordered coffee\n",
            "enter your choice:5\n",
            "you ordered porotta\n",
            "enter your choice:3\n",
            "you ordered dosa\n",
            "enter your choice:exit\n",
            "order confirmed\n"
          ]
        }
      ]
    },
    {
      "cell_type": "code",
      "source": [
        "# star\n",
        "row=int(input(\"Enter the row:\"))\n",
        "a=\" * \"\n",
        "count=1\n",
        "while row>0:\n",
        "   print(\" \"*row+a *count)\n",
        "   row=row-1\n",
        "   count=count+1"
      ],
      "metadata": {
        "colab": {
          "base_uri": "https://localhost:8080/"
        },
        "id": "FmiYoRGGLIV6",
        "outputId": "f6c2a2d4-1af4-4ff5-fb9b-ee48b6320416"
      },
      "execution_count": null,
      "outputs": [
        {
          "output_type": "stream",
          "name": "stdout",
          "text": [
            "Enter the row:5\n",
            "      * \n",
            "     *  * \n",
            "    *  *  * \n",
            "   *  *  *  * \n",
            "  *  *  *  *  * \n"
          ]
        }
      ]
    },
    {
      "cell_type": "code",
      "source": [
        "menu={\"1.tea\",\"2.coffee\",\"3.dosa\",\"4.biriyani\",\"5.porotta\"}\n",
        "print(menu)\n",
        "for i in range(1,6):\n",
        "      choice=input(\"enter your choice:\")\n",
        "      if choice==\"1\":\n",
        "         print(\"you ordered tea\")\n",
        "      elif choice==\"2\":\n",
        "          print(\"you ordered coffee\")\n",
        "      elif choice==\"3\":\n",
        "          print(\"you ordered dosa\")\n",
        "      elif choice==\"4\":\n",
        "          print(\"you ordered biriyani\")\n",
        "      elif choice==\"5\":\n",
        "          print(\"you ordered porotta\")\n",
        "      elif choice==\"no\":\n",
        "          print(\"order confirmed\")\n",
        "          break\n",
        "      else:\n",
        "        print(\"ordered item not present\")"
      ],
      "metadata": {
        "id": "0H_S4Des9bqy"
      },
      "execution_count": null,
      "outputs": []
    },
    {
      "cell_type": "code",
      "source": [
        "menu=[\"1.Dosa\",\"2.Idli\",\"3.Juice\",\"4.Rice\"]\n",
        "print(menu)\n",
        "\n",
        "for i in range(0,10):\n",
        " choice=input(\"Enter your choice\")\n",
        " if choice==\"1\":\n",
        "    print(\"your order: Dosa\")\n",
        " elif choice==\"2\":\n",
        "   print(\"your order: Idli\")\n",
        " elif choice==\"3\":\n",
        "   print(\"your order: Juice\")\n",
        " elif choice==\"4\":\n",
        "   print(\"your order: Rice\")\n",
        " elif choice==\"no\":\n",
        "   print(\"order confirmed\")\n",
        "   break\n",
        " else:\n",
        "  print(\"Invalid choice\")"
      ],
      "metadata": {
        "colab": {
          "base_uri": "https://localhost:8080/"
        },
        "id": "eFhZpdPA-IhX",
        "outputId": "e06a13a4-8078-46ae-ba10-685f6b42ca77"
      },
      "execution_count": null,
      "outputs": [
        {
          "output_type": "stream",
          "name": "stdout",
          "text": [
            "['1.Dosa', '2.Idli', '3.Juice', '4.Rice']\n",
            "Enter your choice1\n",
            "your order: Dosa\n",
            "Enter your choice2\n",
            "your order: Idli\n",
            "Enter your choiceno\n",
            "order confirmed\n"
          ]
        }
      ]
    }
  ]
}